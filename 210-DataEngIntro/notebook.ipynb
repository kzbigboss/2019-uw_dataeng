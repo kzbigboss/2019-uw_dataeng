{
 "cells": [
  {
   "cell_type": "code",
   "execution_count": 1,
   "metadata": {},
   "outputs": [
    {
     "data": {
      "application/vnd.jupyter.widget-view+json": {
       "model_id": "95883ea8d83b40bea50402c4aeca3765",
       "version_major": 2,
       "version_minor": 0
      },
      "text/plain": [
       "VBox()"
      ]
     },
     "metadata": {},
     "output_type": "display_data"
    },
    {
     "name": "stdout",
     "output_type": "stream",
     "text": [
      "Starting Spark application\n"
     ]
    },
    {
     "data": {
      "text/html": [
       "<table>\n",
       "<tr><th>ID</th><th>YARN Application ID</th><th>Kind</th><th>State</th><th>Spark UI</th><th>Driver log</th><th>Current session?</th></tr><tr><td>23</td><td>application_1575849321448_0024</td><td>spark</td><td>idle</td><td><a target=\"_blank\" href=\"http://ip-172-31-10-52.us-west-2.compute.internal:20888/proxy/application_1575849321448_0024/\">Link</a></td><td><a target=\"_blank\" href=\"http://ip-172-31-13-184.us-west-2.compute.internal:8042/node/containerlogs/container_1575849321448_0024_01_000001/livy\">Link</a></td><td>✔</td></tr></table>"
      ],
      "text/plain": [
       "<IPython.core.display.HTML object>"
      ]
     },
     "metadata": {},
     "output_type": "display_data"
    },
    {
     "data": {
      "application/vnd.jupyter.widget-view+json": {
       "model_id": "",
       "version_major": 2,
       "version_minor": 0
      },
      "text/plain": [
       "FloatProgress(value=0.0, bar_style='info', description='Progress:', layout=Layout(height='25px', width='50%'),…"
      ]
     },
     "metadata": {},
     "output_type": "display_data"
    },
    {
     "name": "stdout",
     "output_type": "stream",
     "text": [
      "SparkSession available as 'spark'.\n"
     ]
    },
    {
     "data": {
      "application/vnd.jupyter.widget-view+json": {
       "model_id": "",
       "version_major": 2,
       "version_minor": 0
      },
      "text/plain": [
       "FloatProgress(value=0.0, bar_style='info', description='Progress:', layout=Layout(height='25px', width='50%'),…"
      ]
     },
     "metadata": {},
     "output_type": "display_data"
    }
   ],
   "source": [
    "// Update the configuration of the Spark instance\n",
    "// with the following AWS User Credentials\n",
    "//// sc.hadoopConfiguration.set(\"fs.s3n.awsAccessKeyId\", \"XXX\")\n",
    "//// sc.hadoopConfiguration.set(\"fs.s3n.awsSecretAccessKey\",\"XXX\")"
   ]
  },
  {
   "cell_type": "code",
   "execution_count": 2,
   "metadata": {},
   "outputs": [
    {
     "data": {
      "application/vnd.jupyter.widget-view+json": {
       "model_id": "95302a995f474b9c810916be6800e91a",
       "version_major": 2,
       "version_minor": 0
      },
      "text/plain": [
       "VBox()"
      ]
     },
     "metadata": {},
     "output_type": "display_data"
    },
    {
     "data": {
      "application/vnd.jupyter.widget-view+json": {
       "model_id": "",
       "version_major": 2,
       "version_minor": 0
      },
      "text/plain": [
       "FloatProgress(value=0.0, bar_style='info', description='Progress:', layout=Layout(height='25px', width='50%'),…"
      ]
     },
     "metadata": {},
     "output_type": "display_data"
    },
    {
     "name": "stdout",
     "output_type": "stream",
     "text": [
      "df: org.apache.spark.sql.DataFrame = [features: array<struct<geometry:struct<coordinates:array<double>,type:string>,properties:struct<application_start_date:string,building_fee_paid:string,building_fee_unpaid:string,building_fee_waived:string,census_tract:string,community_area:string,contact_10_city:string,contact_10_name:string,contact_10_state:string,contact_10_type:string,contact_10_zipcode:string,contact_11_city:string,contact_11_name:string,contact_11_state:string,contact_11_type:string,contact_11_zipcode:string,contact_12_city:string,contact_12_name:string,contact_12_state:string,contact_12_type:string,contact_12_zipcode:string,contact_13_city:string,contact_13_name:string,contact_13_state:string,... 94 more fields>,type:string>>, type: string]\n"
     ]
    }
   ],
   "source": [
    "// Read GEOJSON of Chicago Business Permits Data, about 1.8GB\n",
    "val df = spark.read.option(\"multiline\",true).json( \"s3n://201912bigdata210/chicagopermit.json\")"
   ]
  },
  {
   "cell_type": "code",
   "execution_count": 3,
   "metadata": {
    "collapsed": true,
    "jupyter": {
     "outputs_hidden": true
    }
   },
   "outputs": [
    {
     "data": {
      "application/vnd.jupyter.widget-view+json": {
       "model_id": "c5bfebd1a3ce4aab81801f8465447afd",
       "version_major": 2,
       "version_minor": 0
      },
      "text/plain": [
       "VBox()"
      ]
     },
     "metadata": {},
     "output_type": "display_data"
    },
    {
     "data": {
      "application/vnd.jupyter.widget-view+json": {
       "model_id": "",
       "version_major": 2,
       "version_minor": 0
      },
      "text/plain": [
       "FloatProgress(value=0.0, bar_style='info', description='Progress:', layout=Layout(height='25px', width='50%'),…"
      ]
     },
     "metadata": {},
     "output_type": "display_data"
    },
    {
     "name": "stdout",
     "output_type": "stream",
     "text": [
      "root\n",
      " |-- features: array (nullable = true)\n",
      " |    |-- element: struct (containsNull = true)\n",
      " |    |    |-- geometry: struct (nullable = true)\n",
      " |    |    |    |-- coordinates: array (nullable = true)\n",
      " |    |    |    |    |-- element: double (containsNull = true)\n",
      " |    |    |    |-- type: string (nullable = true)\n",
      " |    |    |-- properties: struct (nullable = true)\n",
      " |    |    |    |-- application_start_date: string (nullable = true)\n",
      " |    |    |    |-- building_fee_paid: string (nullable = true)\n",
      " |    |    |    |-- building_fee_unpaid: string (nullable = true)\n",
      " |    |    |    |-- building_fee_waived: string (nullable = true)\n",
      " |    |    |    |-- census_tract: string (nullable = true)\n",
      " |    |    |    |-- community_area: string (nullable = true)\n",
      " |    |    |    |-- contact_10_city: string (nullable = true)\n",
      " |    |    |    |-- contact_10_name: string (nullable = true)\n",
      " |    |    |    |-- contact_10_state: string (nullable = true)\n",
      " |    |    |    |-- contact_10_type: string (nullable = true)\n",
      " |    |    |    |-- contact_10_zipcode: string (nullable = true)\n",
      " |    |    |    |-- contact_11_city: string (nullable = true)\n",
      " |    |    |    |-- contact_11_name: string (nullable = true)\n",
      " |    |    |    |-- contact_11_state: string (nullable = true)\n",
      " |    |    |    |-- contact_11_type: string (nullable = true)\n",
      " |    |    |    |-- contact_11_zipcode: string (nullable = true)\n",
      " |    |    |    |-- contact_12_city: string (nullable = true)\n",
      " |    |    |    |-- contact_12_name: string (nullable = true)\n",
      " |    |    |    |-- contact_12_state: string (nullable = true)\n",
      " |    |    |    |-- contact_12_type: string (nullable = true)\n",
      " |    |    |    |-- contact_12_zipcode: string (nullable = true)\n",
      " |    |    |    |-- contact_13_city: string (nullable = true)\n",
      " |    |    |    |-- contact_13_name: string (nullable = true)\n",
      " |    |    |    |-- contact_13_state: string (nullable = true)\n",
      " |    |    |    |-- contact_13_type: string (nullable = true)\n",
      " |    |    |    |-- contact_13_zipcode: string (nullable = true)\n",
      " |    |    |    |-- contact_14_city: string (nullable = true)\n",
      " |    |    |    |-- contact_14_name: string (nullable = true)\n",
      " |    |    |    |-- contact_14_state: string (nullable = true)\n",
      " |    |    |    |-- contact_14_type: string (nullable = true)\n",
      " |    |    |    |-- contact_14_zipcode: string (nullable = true)\n",
      " |    |    |    |-- contact_15_city: string (nullable = true)\n",
      " |    |    |    |-- contact_15_name: string (nullable = true)\n",
      " |    |    |    |-- contact_15_state: string (nullable = true)\n",
      " |    |    |    |-- contact_15_type: string (nullable = true)\n",
      " |    |    |    |-- contact_15_zipcode: string (nullable = true)\n",
      " |    |    |    |-- contact_1_city: string (nullable = true)\n",
      " |    |    |    |-- contact_1_name: string (nullable = true)\n",
      " |    |    |    |-- contact_1_state: string (nullable = true)\n",
      " |    |    |    |-- contact_1_type: string (nullable = true)\n",
      " |    |    |    |-- contact_1_zipcode: string (nullable = true)\n",
      " |    |    |    |-- contact_2_city: string (nullable = true)\n",
      " |    |    |    |-- contact_2_name: string (nullable = true)\n",
      " |    |    |    |-- contact_2_state: string (nullable = true)\n",
      " |    |    |    |-- contact_2_type: string (nullable = true)\n",
      " |    |    |    |-- contact_2_zipcode: string (nullable = true)\n",
      " |    |    |    |-- contact_3_city: string (nullable = true)\n",
      " |    |    |    |-- contact_3_name: string (nullable = true)\n",
      " |    |    |    |-- contact_3_state: string (nullable = true)\n",
      " |    |    |    |-- contact_3_type: string (nullable = true)\n",
      " |    |    |    |-- contact_3_zipcode: string (nullable = true)\n",
      " |    |    |    |-- contact_4_city: string (nullable = true)\n",
      " |    |    |    |-- contact_4_name: string (nullable = true)\n",
      " |    |    |    |-- contact_4_state: string (nullable = true)\n",
      " |    |    |    |-- contact_4_type: string (nullable = true)\n",
      " |    |    |    |-- contact_4_zipcode: string (nullable = true)\n",
      " |    |    |    |-- contact_5_city: string (nullable = true)\n",
      " |    |    |    |-- contact_5_name: string (nullable = true)\n",
      " |    |    |    |-- contact_5_state: string (nullable = true)\n",
      " |    |    |    |-- contact_5_type: string (nullable = true)\n",
      " |    |    |    |-- contact_5_zipcode: string (nullable = true)\n",
      " |    |    |    |-- contact_6_city: string (nullable = true)\n",
      " |    |    |    |-- contact_6_name: string (nullable = true)\n",
      " |    |    |    |-- contact_6_state: string (nullable = true)\n",
      " |    |    |    |-- contact_6_type: string (nullable = true)\n",
      " |    |    |    |-- contact_6_zipcode: string (nullable = true)\n",
      " |    |    |    |-- contact_7_city: string (nullable = true)\n",
      " |    |    |    |-- contact_7_name: string (nullable = true)\n",
      " |    |    |    |-- contact_7_state: string (nullable = true)\n",
      " |    |    |    |-- contact_7_type: string (nullable = true)\n",
      " |    |    |    |-- contact_7_zipcode: string (nullable = true)\n",
      " |    |    |    |-- contact_8_city: string (nullable = true)\n",
      " |    |    |    |-- contact_8_name: string (nullable = true)\n",
      " |    |    |    |-- contact_8_state: string (nullable = true)\n",
      " |    |    |    |-- contact_8_type: string (nullable = true)\n",
      " |    |    |    |-- contact_8_zipcode: string (nullable = true)\n",
      " |    |    |    |-- contact_9_city: string (nullable = true)\n",
      " |    |    |    |-- contact_9_name: string (nullable = true)\n",
      " |    |    |    |-- contact_9_state: string (nullable = true)\n",
      " |    |    |    |-- contact_9_type: string (nullable = true)\n",
      " |    |    |    |-- contact_9_zipcode: string (nullable = true)\n",
      " |    |    |    |-- id: string (nullable = true)\n",
      " |    |    |    |-- issue_date: string (nullable = true)\n",
      " |    |    |    |-- latitude: string (nullable = true)\n",
      " |    |    |    |-- longitude: string (nullable = true)\n",
      " |    |    |    |-- other_fee_paid: string (nullable = true)\n",
      " |    |    |    |-- other_fee_unpaid: string (nullable = true)\n",
      " |    |    |    |-- other_fee_waived: string (nullable = true)\n",
      " |    |    |    |-- permit_: string (nullable = true)\n",
      " |    |    |    |-- permit_type: string (nullable = true)\n",
      " |    |    |    |-- pin1: string (nullable = true)\n",
      " |    |    |    |-- pin10: string (nullable = true)\n",
      " |    |    |    |-- pin2: string (nullable = true)\n",
      " |    |    |    |-- pin3: string (nullable = true)\n",
      " |    |    |    |-- pin4: string (nullable = true)\n",
      " |    |    |    |-- pin5: string (nullable = true)\n",
      " |    |    |    |-- pin6: string (nullable = true)\n",
      " |    |    |    |-- pin7: string (nullable = true)\n",
      " |    |    |    |-- pin8: string (nullable = true)\n",
      " |    |    |    |-- pin9: string (nullable = true)\n",
      " |    |    |    |-- processing_time: string (nullable = true)\n",
      " |    |    |    |-- reported_cost: string (nullable = true)\n",
      " |    |    |    |-- review_type: string (nullable = true)\n",
      " |    |    |    |-- street_direction: string (nullable = true)\n",
      " |    |    |    |-- street_name: string (nullable = true)\n",
      " |    |    |    |-- street_number: string (nullable = true)\n",
      " |    |    |    |-- subtotal_paid: string (nullable = true)\n",
      " |    |    |    |-- subtotal_unpaid: string (nullable = true)\n",
      " |    |    |    |-- subtotal_waived: string (nullable = true)\n",
      " |    |    |    |-- suffix: string (nullable = true)\n",
      " |    |    |    |-- total_fee: string (nullable = true)\n",
      " |    |    |    |-- ward: string (nullable = true)\n",
      " |    |    |    |-- work_description: string (nullable = true)\n",
      " |    |    |    |-- xcoordinate: string (nullable = true)\n",
      " |    |    |    |-- ycoordinate: string (nullable = true)\n",
      " |    |    |    |-- zoning_fee_paid: string (nullable = true)\n",
      " |    |    |    |-- zoning_fee_unpaid: string (nullable = true)\n",
      " |    |    |    |-- zoning_fee_waived: string (nullable = true)\n",
      " |    |    |-- type: string (nullable = true)\n",
      " |-- type: string (nullable = true)\n",
      "\n"
     ]
    }
   ],
   "source": [
    "df.printSchema"
   ]
  },
  {
   "cell_type": "code",
   "execution_count": 4,
   "metadata": {},
   "outputs": [
    {
     "data": {
      "application/vnd.jupyter.widget-view+json": {
       "model_id": "97cbcb654f454984add277a109e27daa",
       "version_major": 2,
       "version_minor": 0
      },
      "text/plain": [
       "VBox()"
      ]
     },
     "metadata": {},
     "output_type": "display_data"
    },
    {
     "data": {
      "application/vnd.jupyter.widget-view+json": {
       "model_id": "",
       "version_major": 2,
       "version_minor": 0
      },
      "text/plain": [
       "FloatProgress(value=0.0, bar_style='info', description='Progress:', layout=Layout(height='25px', width='50%'),…"
      ]
     },
     "metadata": {},
     "output_type": "display_data"
    },
    {
     "name": "stdout",
     "output_type": "stream",
     "text": [
      "import org.apache.spark.sql.functions.explode\n"
     ]
    }
   ],
   "source": [
    "// spark explode: Creates a new row for each element in the given array or map column. \n",
    "// help to flatten interesting parts of nested JSON\n",
    "import org.apache.spark.sql.functions.explode"
   ]
  },
  {
   "cell_type": "code",
   "execution_count": 5,
   "metadata": {},
   "outputs": [
    {
     "data": {
      "application/vnd.jupyter.widget-view+json": {
       "model_id": "f504d93cc6054c7180df255dcb42fed3",
       "version_major": 2,
       "version_minor": 0
      },
      "text/plain": [
       "VBox()"
      ]
     },
     "metadata": {},
     "output_type": "display_data"
    },
    {
     "data": {
      "application/vnd.jupyter.widget-view+json": {
       "model_id": "",
       "version_major": 2,
       "version_minor": 0
      },
      "text/plain": [
       "FloatProgress(value=0.0, bar_style='info', description='Progress:', layout=Layout(height='25px', width='50%'),…"
      ]
     },
     "metadata": {},
     "output_type": "display_data"
    },
    {
     "name": "stdout",
     "output_type": "stream",
     "text": [
      "dfGeometry: org.apache.spark.sql.Dataset[org.apache.spark.sql.Row] = [coordinates: array<double>, type: string]\n"
     ]
    }
   ],
   "source": [
    "val dfGeometry = df.select(explode($\"features.geometry\")).select($\"col.*\").cache"
   ]
  },
  {
   "cell_type": "code",
   "execution_count": 6,
   "metadata": {},
   "outputs": [
    {
     "data": {
      "application/vnd.jupyter.widget-view+json": {
       "model_id": "d53a9646bd964461bb2fe2f7ecdc3d54",
       "version_major": 2,
       "version_minor": 0
      },
      "text/plain": [
       "VBox()"
      ]
     },
     "metadata": {},
     "output_type": "display_data"
    },
    {
     "data": {
      "application/vnd.jupyter.widget-view+json": {
       "model_id": "",
       "version_major": 2,
       "version_minor": 0
      },
      "text/plain": [
       "FloatProgress(value=0.0, bar_style='info', description='Progress:', layout=Layout(height='25px', width='50%'),…"
      ]
     },
     "metadata": {},
     "output_type": "display_data"
    },
    {
     "name": "stdout",
     "output_type": "stream",
     "text": [
      "cntGeo: Long = 606706\n"
     ]
    }
   ],
   "source": [
    "val cntGeo = dfGeometry.count"
   ]
  },
  {
   "cell_type": "code",
   "execution_count": 7,
   "metadata": {},
   "outputs": [
    {
     "data": {
      "application/vnd.jupyter.widget-view+json": {
       "model_id": "66b5f4b6fd854f9f9f8aae55825b0e31",
       "version_major": 2,
       "version_minor": 0
      },
      "text/plain": [
       "VBox()"
      ]
     },
     "metadata": {},
     "output_type": "display_data"
    },
    {
     "data": {
      "application/vnd.jupyter.widget-view+json": {
       "model_id": "",
       "version_major": 2,
       "version_minor": 0
      },
      "text/plain": [
       "FloatProgress(value=0.0, bar_style='info', description='Progress:', layout=Layout(height='25px', width='50%'),…"
      ]
     },
     "metadata": {},
     "output_type": "display_data"
    },
    {
     "name": "stdout",
     "output_type": "stream",
     "text": [
      "dfProperties: org.apache.spark.sql.Dataset[org.apache.spark.sql.Row] = [id: string, application_start_date: string ... 4 more fields]\n"
     ]
    }
   ],
   "source": [
    "val dfProperties = df.select(explode($\"features.properties\")).select($\"col.id\", \n",
    "                                                              $\"col.application_start_date\",\n",
    "                                                              $\"col.community_area\",\n",
    "                                                              $\"col.issue_date\",\n",
    "                                                              $\"col.latitude\",\n",
    "                                                              $\"col.longitude\"\n",
    "                                                             ).cache"
   ]
  },
  {
   "cell_type": "code",
   "execution_count": 8,
   "metadata": {},
   "outputs": [
    {
     "data": {
      "application/vnd.jupyter.widget-view+json": {
       "model_id": "d33130c8367f4564be6894d77aee766c",
       "version_major": 2,
       "version_minor": 0
      },
      "text/plain": [
       "VBox()"
      ]
     },
     "metadata": {},
     "output_type": "display_data"
    },
    {
     "data": {
      "application/vnd.jupyter.widget-view+json": {
       "model_id": "",
       "version_major": 2,
       "version_minor": 0
      },
      "text/plain": [
       "FloatProgress(value=0.0, bar_style='info', description='Progress:', layout=Layout(height='25px', width='50%'),…"
      ]
     },
     "metadata": {},
     "output_type": "display_data"
    },
    {
     "name": "stdout",
     "output_type": "stream",
     "text": [
      "res10: Long = 606706\n",
      "res11: Long = 606706\n"
     ]
    }
   ],
   "source": [
    "dfGeometry.count\n",
    "dfProperties.count"
   ]
  },
  {
   "cell_type": "code",
   "execution_count": 9,
   "metadata": {},
   "outputs": [
    {
     "data": {
      "application/vnd.jupyter.widget-view+json": {
       "model_id": "a05fcda061674567a10d17efd02ee2d3",
       "version_major": 2,
       "version_minor": 0
      },
      "text/plain": [
       "VBox()"
      ]
     },
     "metadata": {},
     "output_type": "display_data"
    },
    {
     "data": {
      "application/vnd.jupyter.widget-view+json": {
       "model_id": "",
       "version_major": 2,
       "version_minor": 0
      },
      "text/plain": [
       "FloatProgress(value=0.0, bar_style='info', description='Progress:', layout=Layout(height='25px', width='50%'),…"
      ]
     },
     "metadata": {},
     "output_type": "display_data"
    },
    {
     "name": "stdout",
     "output_type": "stream",
     "text": [
      "+-------+-----------------------+--------------+-----------------------+------------+-------------+\n",
      "|id     |application_start_date |community_area|issue_date             |latitude    |longitude    |\n",
      "+-------+-----------------------+--------------+-----------------------+------------+-------------+\n",
      "|2530006|2014-02-24T00:00:00.000|76            |2014-03-04T00:00:00.000|null        |null         |\n",
      "|2506958|2013-11-18T00:00:00.000|76            |2013-12-19T00:00:00.000|null        |null         |\n",
      "|2506971|2013-11-18T00:00:00.000|76            |2013-12-19T00:00:00.000|null        |null         |\n",
      "|2818648|2017-01-25T00:00:00.000|28            |2017-01-25T00:00:00.000|null        |null         |\n",
      "|1779434|2007-02-15T00:00:00.000|null          |2007-02-15T00:00:00.000|null        |null         |\n",
      "|2616882|2014-12-04T00:00:00.000|7             |2014-12-20T00:00:00.000|null        |null         |\n",
      "|3004830|2019-03-29T00:00:00.000|32            |2019-07-15T00:00:00.000|41.878542932|-87.632120577|\n",
      "|3052220|2019-07-13T00:00:00.000|2             |2019-07-13T00:00:00.000|41.998183327|-87.698297699|\n",
      "|2037434|2009-04-07T00:00:00.000|38            |2009-04-10T00:00:00.000|null        |null         |\n",
      "|2041118|2009-04-20T00:00:00.000|73            |2009-04-20T00:00:00.000|41.712750544|-87.639200561|\n",
      "+-------+-----------------------+--------------+-----------------------+------------+-------------+\n",
      "only showing top 10 rows\n",
      "\n"
     ]
    }
   ],
   "source": [
    "dfProperties.show(10, truncate = false)"
   ]
  },
  {
   "cell_type": "code",
   "execution_count": 10,
   "metadata": {},
   "outputs": [
    {
     "data": {
      "application/vnd.jupyter.widget-view+json": {
       "model_id": "4c7fb3bf72c143f18ab888e07fdb1fcd",
       "version_major": 2,
       "version_minor": 0
      },
      "text/plain": [
       "VBox()"
      ]
     },
     "metadata": {},
     "output_type": "display_data"
    },
    {
     "data": {
      "application/vnd.jupyter.widget-view+json": {
       "model_id": "",
       "version_major": 2,
       "version_minor": 0
      },
      "text/plain": [
       "FloatProgress(value=0.0, bar_style='info', description='Progress:', layout=Layout(height='25px', width='50%'),…"
      ]
     },
     "metadata": {},
     "output_type": "display_data"
    },
    {
     "name": "stdout",
     "output_type": "stream",
     "text": [
      "import org.apache.spark.sql.functions._\n"
     ]
    }
   ],
   "source": [
    "import org.apache.spark.sql.functions._"
   ]
  },
  {
   "cell_type": "code",
   "execution_count": 11,
   "metadata": {},
   "outputs": [
    {
     "data": {
      "application/vnd.jupyter.widget-view+json": {
       "model_id": "c196db7f36d5447280430225f2e04a82",
       "version_major": 2,
       "version_minor": 0
      },
      "text/plain": [
       "VBox()"
      ]
     },
     "metadata": {},
     "output_type": "display_data"
    },
    {
     "data": {
      "application/vnd.jupyter.widget-view+json": {
       "model_id": "",
       "version_major": 2,
       "version_minor": 0
      },
      "text/plain": [
       "FloatProgress(value=0.0, bar_style='info', description='Progress:', layout=Layout(height='25px', width='50%'),…"
      ]
     },
     "metadata": {},
     "output_type": "display_data"
    },
    {
     "name": "stdout",
     "output_type": "stream",
     "text": [
      "dfDateDif: org.apache.spark.sql.DataFrame = [id: string, application_start_date: string ... 7 more fields]\n",
      "+-------+-----------------------+--------------+-----------------------+------------+-------------+----------+----------+---------+\n",
      "|id     |application_start_date |community_area|issue_date             |latitude    |longitude    |delta_date|start_year|zero_wait|\n",
      "+-------+-----------------------+--------------+-----------------------+------------+-------------+----------+----------+---------+\n",
      "|2530006|2014-02-24T00:00:00.000|76            |2014-03-04T00:00:00.000|null        |null         |8         |2014      |0        |\n",
      "|2506958|2013-11-18T00:00:00.000|76            |2013-12-19T00:00:00.000|null        |null         |31        |2013      |0        |\n",
      "|2506971|2013-11-18T00:00:00.000|76            |2013-12-19T00:00:00.000|null        |null         |31        |2013      |0        |\n",
      "|2818648|2017-01-25T00:00:00.000|28            |2017-01-25T00:00:00.000|null        |null         |0         |2017      |1        |\n",
      "|1779434|2007-02-15T00:00:00.000|null          |2007-02-15T00:00:00.000|null        |null         |0         |2007      |1        |\n",
      "|2616882|2014-12-04T00:00:00.000|7             |2014-12-20T00:00:00.000|null        |null         |16        |2014      |0        |\n",
      "|3004830|2019-03-29T00:00:00.000|32            |2019-07-15T00:00:00.000|41.878542932|-87.632120577|108       |2019      |0        |\n",
      "|3052220|2019-07-13T00:00:00.000|2             |2019-07-13T00:00:00.000|41.998183327|-87.698297699|0         |2019      |1        |\n",
      "|2037434|2009-04-07T00:00:00.000|38            |2009-04-10T00:00:00.000|null        |null         |3         |2009      |0        |\n",
      "|2041118|2009-04-20T00:00:00.000|73            |2009-04-20T00:00:00.000|41.712750544|-87.639200561|0         |2009      |1        |\n",
      "+-------+-----------------------+--------------+-----------------------+------------+-------------+----------+----------+---------+\n",
      "only showing top 10 rows\n",
      "\n"
     ]
    }
   ],
   "source": [
    "val dfDateDif = dfProperties.withColumn(\"delta_date\", datediff($\"issue_date\", $\"application_start_date\")\n",
    "                                       ).withColumn(\"start_year\", year(to_timestamp($\"application_start_date\"))\n",
    "                                                   ).withColumn(\"zero_wait\", when(col(\"delta_date\") === 0, 1).otherwise(0))\n",
    "\n",
    "dfDateDif.show(10, truncate = false)"
   ]
  },
  {
   "cell_type": "code",
   "execution_count": 14,
   "metadata": {},
   "outputs": [
    {
     "data": {
      "application/vnd.jupyter.widget-view+json": {
       "model_id": "8d1de03faa8949a0baa257852d74b689",
       "version_major": 2,
       "version_minor": 0
      },
      "text/plain": [
       "VBox()"
      ]
     },
     "metadata": {},
     "output_type": "display_data"
    },
    {
     "data": {
      "application/vnd.jupyter.widget-view+json": {
       "model_id": "",
       "version_major": 2,
       "version_minor": 0
      },
      "text/plain": [
       "FloatProgress(value=0.0, bar_style='info', description='Progress:', layout=Layout(height='25px', width='50%'),…"
      ]
     },
     "metadata": {},
     "output_type": "display_data"
    },
    {
     "name": "stdout",
     "output_type": "stream",
     "text": [
      "+----------+---------+-------------+--------+\n",
      "|start_year|zero_wait|total_permits|zero_pct|\n",
      "+----------+---------+-------------+--------+\n",
      "|      null|        0|          503|     0.0|\n",
      "|      2001|        0|          588|     0.0|\n",
      "|      2002|        0|          138|     0.0|\n",
      "|      2003|        0|           77|     0.0|\n",
      "|      2004|        0|          446|     0.0|\n",
      "|      2005|        0|         2900|     0.0|\n",
      "|      2006|    23762|        48251|    0.49|\n",
      "|      2007|    21696|        44237|    0.49|\n",
      "|      2008|    20633|        40765|    0.51|\n",
      "|      2009|    22141|        39892|    0.56|\n",
      "|      2010|    22657|        38830|    0.58|\n",
      "|      2011|    21609|        36913|    0.59|\n",
      "|      2012|    22448|        38681|    0.58|\n",
      "|      2013|    23731|        41071|    0.58|\n",
      "|      2014|    25922|        43461|     0.6|\n",
      "|      2015|    29239|        44828|    0.65|\n",
      "|      2016|    31178|        46044|    0.68|\n",
      "|      2017|    31330|        47531|    0.66|\n",
      "|      2018|    32281|        46800|    0.69|\n",
      "|      2019|    31704|        44750|    0.71|\n",
      "+----------+---------+-------------+--------+\n",
      "\n",
      "dfZeroWaitByYear: Unit = ()\n"
     ]
    }
   ],
   "source": [
    "val dfZeroWaitByYear = dfDateDif.groupBy($\"start_year\"\n",
    "                                        ).agg(sum($\"zero_wait\") as \"zero_wait\"\n",
    "                                              ,count($\"zero_wait\") as \"total_permits\"\n",
    "                                             ).withColumn(\"zero_pct\", round($\"zero_wait\" / $\"total_permits\",2)\n",
    "                                                         ).sort($\"start_year\"\n",
    "                                                               ).show"
   ]
  }
 ],
 "metadata": {
  "kernelspec": {
   "display_name": "Spark",
   "language": "",
   "name": "sparkkernel"
  },
  "language_info": {
   "codemirror_mode": "text/x-scala",
   "mimetype": "text/x-scala",
   "name": "scala",
   "pygments_lexer": "scala"
  }
 },
 "nbformat": 4,
 "nbformat_minor": 4
}
